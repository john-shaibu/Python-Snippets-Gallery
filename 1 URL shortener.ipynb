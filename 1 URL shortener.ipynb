{
 "cells": [
  {
   "cell_type": "code",
   "execution_count": null,
   "metadata": {},
   "outputs": [],
   "source": [
    "import pyshorteners"
   ]
  },
  {
   "cell_type": "code",
   "execution_count": null,
   "metadata": {},
   "outputs": [],
   "source": [
    "longUrl = input('Enter URL to shorten: ')\n",
    "\n",
    "typeTiny = pyshorteners.Shortener()\n",
    "shortURL = typeTiny.tinyurl.short(longUrl)\n",
    "\n",
    "print('Shortened URL: ' + shortURL)"
   ]
  }
 ],
 "metadata": {
  "kernelspec": {
   "display_name": "Python 3",
   "language": "python",
   "name": "python3"
  },
  "language_info": {
   "name": "python",
   "version": "3.11.5"
  }
 },
 "nbformat": 4,
 "nbformat_minor": 2
}
